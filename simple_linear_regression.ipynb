{
 "cells": [
  {
   "cell_type": "code",
   "execution_count": 4,
   "metadata": {},
   "outputs": [
    {
     "name": "stdout",
     "output_type": "stream",
     "text": [
      "prediction [number   -0.869565\n",
      "dtype: float64, number    9.26087\n",
      "dtype: float64, number    19.391304\n",
      "dtype: float64, number    29.521739\n",
      "dtype: float64, number    49.782609\n",
      "dtype: float64, number    59.913043\n",
      "dtype: float64]\n"
     ]
    }
   ],
   "source": [
    "import pandas as pd\n",
    "import numpy as np\n",
    "import matplotlib.pyplot as plt\n",
    "data = [[2,4],[3,9],[4,16],[5,25],[7,49],[8,64]]\n",
    "df = pd.DataFrame(data,columns=['number','cube'],dtype=int)\n",
    "y=df.iloc[:,1]\n",
    "df=df.drop('cube',axis=1)\n",
    "x=df.copy()\n",
    "x_mean=np.mean(x)\n",
    "y_mean=np.mean(y)\n",
    "n=len(x)\n",
    "num=0\n",
    "den=0\n",
    "for i in range(0,6):\n",
    "    num+=(x.iloc[i]-x_mean)*(y.iloc[i]-y_mean)\n",
    "    den+=(x.iloc[i]-x_mean)**2\n",
    "thetha_1=num/den\n",
    "thetha_0=y_mean-thetha_1*x_mean\n",
    "y_pred=[]\n",
    "error=[]\n",
    "for i in range (0,n):\n",
    "    y_pred.append(thetha_0+thetha_1*x.iloc[i])\n",
    "    error.append((y.iloc[i]-y_pred)**2)\n",
    "ss=0\n",
    "sr=0\n",
    "for i in range(0,n):\n",
    "    ss+=(y.iloc[i]-y_mean)**2\n",
    "    sr+=(y.iloc[i]-y_pred[i])**2\n",
    "r_2=1-(ss/sr)\n",
    "#print('rsquare value',r_2)\n",
    "print('prediction',y_pred)"
   ]
  },
  {
   "cell_type": "code",
   "execution_count": null,
   "metadata": {},
   "outputs": [],
   "source": []
  }
 ],
 "metadata": {
  "kernelspec": {
   "display_name": "Python",
   "language": "python",
   "name": "conda-env-python-py"
  },
  "language_info": {
   "codemirror_mode": {
    "name": "ipython",
    "version": 3
   },
   "file_extension": ".py",
   "mimetype": "text/x-python",
   "name": "python",
   "nbconvert_exporter": "python",
   "pygments_lexer": "ipython3",
   "version": "3.6.10"
  }
 },
 "nbformat": 4,
 "nbformat_minor": 4
}

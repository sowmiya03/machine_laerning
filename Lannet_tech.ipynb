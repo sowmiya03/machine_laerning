{
  "nbformat": 4,
  "nbformat_minor": 0,
  "metadata": {
    "colab": {
      "name": "Lannet_tech.ipynb",
      "provenance": [],
      "collapsed_sections": [],
      "authorship_tag": "ABX9TyPfEOjHyVNBOcpVM7INXGVq",
      "include_colab_link": true
    },
    "kernelspec": {
      "name": "python3",
      "display_name": "Python 3"
    }
  },
  "cells": [
    {
      "cell_type": "markdown",
      "metadata": {
        "id": "view-in-github",
        "colab_type": "text"
      },
      "source": [
        "<a href=\"https://colab.research.google.com/github/sowmiya03/machine_learning/blob/master/Lannet_tech.ipynb\" target=\"_parent\"><img src=\"https://colab.research.google.com/assets/colab-badge.svg\" alt=\"Open In Colab\"/></a>"
      ]
    },
    {
      "cell_type": "code",
      "metadata": {
        "id": "btTFa-UWnG5J",
        "colab_type": "code",
        "colab": {}
      },
      "source": [
        "import numpy as np \n",
        "import pandas as pd\n",
        "import datetime\n",
        "from sklearn.preprocessing import LabelEncoder\n",
        "dff = pd.DataFrame({'Date1':['10/2/2011', '11/2/2011', '12/2/2011', '13/2/2011'],\n",
        "                    'Date2':['10/5/2011', '11/2/2010', '12/4/2011', '13/6/2011'],\n",
        "                    'Event':['Music', 'Poetry', 'Theatre', 'Comedy'], \n",
        "                    'Date3':['10/2/2019', '11/4/2011', '22/2/2012', '13/6/2011'],\n",
        "                    'Cost':[10000, 5000, 15000, 2000],\n",
        "                   'Date4':['2020-02-28','2000','2018-03-12','1999-02-03']}) "
      ],
      "execution_count": 20,
      "outputs": []
    },
    {
      "cell_type": "code",
      "metadata": {
        "id": "bVd1QgZXnjfN",
        "colab_type": "code",
        "colab": {}
      },
      "source": [
        "#Task 1.1 Write a function in python that identify which columns have date in them.\n",
        "def verify(df):\n",
        "    dtype=df.dtypes.astype(str).values.tolist()#list containing data type of each column\n",
        "    for i in range(0,df.shape[1]):\n",
        "        if dtype[i]=='object':\n",
        "            try:#convert dates into proper format \n",
        "                df.iloc[:,i]= pd.to_datetime(df.iloc[:,i])#objects other than date raise error which are captured by except\n",
        "            except:\n",
        "                continue\n",
        "    data=[]#list to store names of date columns\n",
        "    name=df.columns#names of columns\n",
        "    dtype=df.dtypes.astype(str).values.tolist()#updated the changed datatype\n",
        "    for i in range(0,df.shape[1]):\n",
        "        if dtype[i]=='datetime64[ns]':\n",
        "                data.append(name[i])#datetime column names are appended\n",
        "    return(data)"
      ],
      "execution_count": 21,
      "outputs": []
    },
    {
      "cell_type": "code",
      "metadata": {
        "id": "zrCLaM4qn4VW",
        "colab_type": "code",
        "colab": {}
      },
      "source": [
        "#Task 1.2 Using these date columns make new columns which are difference between these columns.\n",
        "def difference(df,name):#df=dataframe name=name of column containing date \n",
        "    for i in range(0,len(name)):\n",
        "        for j in range(i+1,len(name)):\n",
        "            diff=(abs((dff[name[i]]-dff[name[j]])/np.timedelta64(1,'D'))).tolist()#difference of date columns\n",
        "            df[name[i]+'-'+name[j]]=diff#add the new column\n",
        "    return df"
      ],
      "execution_count": 22,
      "outputs": []
    },
    {
      "cell_type": "code",
      "metadata": {
        "id": "tAF1t2tpAIBB",
        "colab_type": "code",
        "colab": {}
      },
      "source": [
        "#Task 1.3 Drop all the original columns containing the date and just keep the newly computed columns.\n",
        "def delete(name,df):#df=dataframe name=name of column containing date \n",
        "    df.drop(name,axis=1,inplace=True)#delete the old columns\n",
        "    return df"
      ],
      "execution_count": 23,
      "outputs": []
    },
    {
      "cell_type": "code",
      "metadata": {
        "id": "riqAGhlvAMyK",
        "colab_type": "code",
        "colab": {
          "base_uri": "https://localhost:8080/",
          "height": 136
        },
        "outputId": "b353cce2-c0f4-45dc-b332-d1e0e77db1b2"
      },
      "source": [
        "data=verify(dff)#pass raw data = task 1.1\n",
        "mod_df=difference(dff,data)#pass data and column names with date and receive data with new columns = task 1.2\n",
        "final=delete(data,mod_df)#pass data with date difference and column names with date and receive data = task 1.3\n",
        "print(final)"
      ],
      "execution_count": 24,
      "outputs": [
        {
          "output_type": "stream",
          "text": [
            "     Event   Cost  Date1-Date2  ...  Date2-Date3  Date2-Date4  Date3-Date4\n",
            "0    Music  10000          3.0  ...       2919.0       3068.0        149.0\n",
            "1   Poetry   5000        365.0  ...        367.0       3958.0       4325.0\n",
            "2  Theatre  15000          2.0  ...         80.0       2290.0       2210.0\n",
            "3   Comedy   2000        120.0  ...          0.0       4513.0       4513.0\n",
            "\n",
            "[4 rows x 8 columns]\n"
          ],
          "name": "stdout"
        }
      ]
    },
    {
      "cell_type": "code",
      "metadata": {
        "id": "USog9sH0A6D7",
        "colab_type": "code",
        "colab": {}
      },
      "source": [
        "#Task 2.1 Write a function in python that drop columns having Pearson correlation more than 0.85\n",
        "def pearson_correlation(df):#df=dataframe\n",
        "  my_encoder=LabelEncoder()\n",
        "  cat_features=df.select_dtypes(include='object').columns.tolist()#columns with categorical variable\n",
        "  df[cat_features]=my_encoder.fit_transform(df[cat_features])#to encode categorical features\n",
        "  check=[]#list with names of column with high correlation\n",
        "  cor=df.corr('pearson').abs()#calcualte correlation of dataframe    \n",
        "  for i in range(0,cor.shape[1]):\n",
        "    for j in range(0,i):\n",
        "      if cor.iloc[i,j]>0.85:#columns with correlation of more than given limit\n",
        "        check.append(cor.columns[i])#append to list of column names\n",
        "        if cor.columns[i] in df.columns:#to check if the high correlated column still present in dataframe\n",
        "          df.drop(cor.columns[i],axis=1,inplace=True)#delete high correlated column\n",
        "  return(df)"
      ],
      "execution_count": 25,
      "outputs": []
    },
    {
      "cell_type": "code",
      "metadata": {
        "id": "xGegNi2rhuii",
        "colab_type": "code",
        "colab": {
          "base_uri": "https://localhost:8080/",
          "height": 71
        },
        "outputId": "b864853c-03a5-4d6f-9c87-69168ac8e8f4"
      },
      "source": [
        "final2=pearson_correlation(final)#data should be free from null values for better performance"
      ],
      "execution_count": 26,
      "outputs": [
        {
          "output_type": "stream",
          "text": [
            "/usr/local/lib/python3.6/dist-packages/sklearn/preprocessing/_label.py:251: DataConversionWarning: A column-vector y was passed when a 1d array was expected. Please change the shape of y to (n_samples, ), for example using ravel().\n",
            "  y = column_or_1d(y, warn=True)\n"
          ],
          "name": "stderr"
        }
      ]
    },
    {
      "cell_type": "code",
      "metadata": {
        "id": "OhEpFKBAmttf",
        "colab_type": "code",
        "colab": {}
      },
      "source": [
        ""
      ],
      "execution_count": 27,
      "outputs": []
    }
  ]
}
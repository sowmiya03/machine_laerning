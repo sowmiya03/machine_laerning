{
 "cells": [
  {
   "cell_type": "code",
   "execution_count": 6,
   "metadata": {},
   "outputs": [],
   "source": [
    "import pandas as pd\n",
    "import numpy as np\n",
    "import matplotlib.pyplot as plt\n",
    "data = [[2,4,8],[3,9,27],[4,16,64],[5,25,125],[7,49,343],[8,64,512]]\n",
    "df = pd.DataFrame(data,columns=['number','square','cube'],dtype=int)\n",
    "y=df.iloc[:,2]\n",
    "#df=df.drop('cube',axis=1)\n",
    "df.insert(0,'ones',1)"
   ]
  },
  {
   "cell_type": "code",
   "execution_count": 7,
   "metadata": {},
   "outputs": [],
   "source": [
    "x=np.array([df['ones'].values,df['number'].values,df['square'].values])\n",
    "y=np.array(df['cube'].values)"
   ]
  },
  {
   "cell_type": "code",
   "execution_count": 42,
   "metadata": {},
   "outputs": [],
   "source": [
    "def cost_function(x,y,t):\n",
    "    h=np.dot(t,x)\n",
    "    m=y.shape[0]\n",
    "    j=(1/(2*m))*np.sum(np.square(y-h))\n",
    "    return j"
   ]
  },
  {
   "cell_type": "code",
   "execution_count": 48,
   "metadata": {},
   "outputs": [],
   "source": [
    "thetha=np.random.rand(1,x.shape[0])\n",
    "#thetha_0=0\n",
    "alpha=0.0001\n",
    "initial_cost=cost_function(x,y,thetha)"
   ]
  },
  {
   "cell_type": "code",
   "execution_count": 52,
   "metadata": {},
   "outputs": [],
   "source": [
    "def gradient_descent(x,y,t,alpha,n):\n",
    "        history=[]\n",
    "        m=y.shape[0]\n",
    "        for i in range(0,n):\n",
    "            h=np.dot(t,x)\n",
    "            t=t-alpha*np.dot((1/m)*(h-y),x.T)\n",
    "            history.append(cost_function(x,y,t))\n",
    "        return history,t"
   ]
  },
  {
   "cell_type": "code",
   "execution_count": 53,
   "metadata": {},
   "outputs": [],
   "source": [
    "no_of_iteration=1000\n",
    "cost,thetha=gradient_descent(x,y,thetha,alpha,no_of_iteration)"
   ]
  },
  {
   "cell_type": "code",
   "execution_count": 54,
   "metadata": {},
   "outputs": [
    {
     "data": {
      "text/plain": [
       "639.047566068673"
      ]
     },
     "execution_count": 54,
     "metadata": {},
     "output_type": "execute_result"
    }
   ],
   "source": [
    "cost[-1]"
   ]
  },
  {
   "cell_type": "code",
   "execution_count": 57,
   "metadata": {},
   "outputs": [
    {
     "data": {
      "text/plain": [
       "array([[-14.10604349, -30.38264531, -44.22424374, -49.63083879,\n",
       "        -11.13901874,  44.75939636]])"
      ]
     },
     "execution_count": 57,
     "metadata": {},
     "output_type": "execute_result"
    }
   ],
   "source": [
    "y-np.dot(thetha,x)"
   ]
  },
  {
   "cell_type": "code",
   "execution_count": 56,
   "metadata": {},
   "outputs": [
    {
     "data": {
      "text/plain": [
       "array([  8,  27,  64, 125, 343, 512])"
      ]
     },
     "execution_count": 56,
     "metadata": {},
     "output_type": "execute_result"
    }
   ],
   "source": []
  },
  {
   "cell_type": "code",
   "execution_count": null,
   "metadata": {},
   "outputs": [],
   "source": []
  }
 ],
 "metadata": {
  "kernelspec": {
   "display_name": "Python",
   "language": "python",
   "name": "conda-env-python-py"
  },
  "language_info": {
   "codemirror_mode": {
    "name": "ipython",
    "version": 3
   },
   "file_extension": ".py",
   "mimetype": "text/x-python",
   "name": "python",
   "nbconvert_exporter": "python",
   "pygments_lexer": "ipython3",
   "version": "3.6.10"
  }
 },
 "nbformat": 4,
 "nbformat_minor": 4
}

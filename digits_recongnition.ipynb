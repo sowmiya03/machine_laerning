{
  "nbformat": 4,
  "nbformat_minor": 0,
  "metadata": {
    "colab": {
      "name": "digits_recong.ipynb",
      "provenance": [],
      "collapsed_sections": [],
      "include_colab_link": true
    },
    "kernelspec": {
      "name": "python3",
      "display_name": "Python 3"
    },
    "accelerator": "GPU"
  },
  "cells": [
    {
      "cell_type": "markdown",
      "metadata": {
        "id": "view-in-github",
        "colab_type": "text"
      },
      "source": [
        "<a href=\"https://colab.research.google.com/github/sowmiya03/machine_learning/blob/master/digits_recongnition.ipynb\" target=\"_parent\"><img src=\"https://colab.research.google.com/assets/colab-badge.svg\" alt=\"Open In Colab\"/></a>"
      ]
    },
    {
      "cell_type": "code",
      "metadata": {
        "id": "RsGqx_ai_N8F",
        "colab": {
          "base_uri": "https://localhost:8080/",
          "height": 343
        },
        "outputId": "303090b5-3e0f-42d0-e9ad-a8e4e5f99cef"
      },
      "source": [
        "# Import Tensorflow 2.0\n",
        "%tensorflow_version 2.x\n",
        "import tensorflow as tf \n",
        "\n",
        "!pip install mitdeeplearning\n",
        "import mitdeeplearning as mdl\n",
        "\n",
        "import matplotlib.pyplot as plt\n",
        "import numpy as np\n",
        "import random\n",
        "from tqdm import tqdm\n",
        "\n",
        "# Check that we are using a GPU, if not switch runtimes\n",
        "#   using Runtime > Change Runtime Type > GPU\n",
        "assert len(tf.config.list_physical_devices('GPU')) > 0"
      ],
      "execution_count": null,
      "outputs": [
        {
          "output_type": "stream",
          "text": [
            "Collecting mitdeeplearning\n",
            "\u001b[?25l  Downloading https://files.pythonhosted.org/packages/8b/3b/b9174b68dc10832356d02a2d83a64b43a24f1762c172754407d22fc8f960/mitdeeplearning-0.1.2.tar.gz (2.1MB)\n",
            "\r\u001b[K     |▏                               | 10kB 17.1MB/s eta 0:00:01\r\u001b[K     |▎                               | 20kB 4.9MB/s eta 0:00:01\r\u001b[K     |▌                               | 30kB 5.9MB/s eta 0:00:01\r\u001b[K     |▋                               | 40kB 6.1MB/s eta 0:00:01\r\u001b[K     |▉                               | 51kB 5.4MB/s eta 0:00:01\r\u001b[K     |█                               | 61kB 6.0MB/s eta 0:00:01\r\u001b[K     |█                               | 71kB 6.4MB/s eta 0:00:01\r\u001b[K     |█▎                              | 81kB 7.1MB/s eta 0:00:01\r\u001b[K     |█▍                              | 92kB 7.4MB/s eta 0:00:01\r\u001b[K     |█▋                              | 102kB 7.4MB/s eta 0:00:01\r\u001b[K     |█▊                              | 112kB 7.4MB/s eta 0:00:01\r\u001b[K     |█▉                              | 122kB 7.4MB/s eta 0:00:01\r\u001b[K     |██                              | 133kB 7.4MB/s eta 0:00:01\r\u001b[K     |██▏                             | 143kB 7.4MB/s eta 0:00:01\r\u001b[K     |██▍                             | 153kB 7.4MB/s eta 0:00:01\r\u001b[K     |██▌                             | 163kB 7.4MB/s eta 0:00:01\r\u001b[K     |██▊                             | 174kB 7.4MB/s eta 0:00:01\r\u001b[K     |██▉                             | 184kB 7.4MB/s eta 0:00:01\r\u001b[K     |███                             | 194kB 7.4MB/s eta 0:00:01\r\u001b[K     |███▏                            | 204kB 7.4MB/s eta 0:00:01\r\u001b[K     |███▎                            | 215kB 7.4MB/s eta 0:00:01\r\u001b[K     |███▌                            | 225kB 7.4MB/s eta 0:00:01\r\u001b[K     |███▋                            | 235kB 7.4MB/s eta 0:00:01\r\u001b[K     |███▊                            | 245kB 7.4MB/s eta 0:00:01\r\u001b[K     |████                            | 256kB 7.4MB/s eta 0:00:01\r\u001b[K     |████                            | 266kB 7.4MB/s eta 0:00:01\r\u001b[K     |████▎                           | 276kB 7.4MB/s eta 0:00:01\r\u001b[K     |████▍                           | 286kB 7.4MB/s eta 0:00:01\r\u001b[K     |████▋                           | 296kB 7.4MB/s eta 0:00:01\r\u001b[K     |████▊                           | 307kB 7.4MB/s eta 0:00:01\r\u001b[K     |████▉                           | 317kB 7.4MB/s eta 0:00:01\r\u001b[K     |█████                           | 327kB 7.4MB/s eta 0:00:01\r\u001b[K     |█████▏                          | 337kB 7.4MB/s eta 0:00:01\r\u001b[K     |█████▍                          | 348kB 7.4MB/s eta 0:00:01\r\u001b[K     |█████▌                          | 358kB 7.4MB/s eta 0:00:01\r\u001b[K     |█████▋                          | 368kB 7.4MB/s eta 0:00:01\r\u001b[K     |█████▉                          | 378kB 7.4MB/s eta 0:00:01\r\u001b[K     |██████                          | 389kB 7.4MB/s eta 0:00:01\r\u001b[K     |██████▏                         | 399kB 7.4MB/s eta 0:00:01\r\u001b[K     |██████▎                         | 409kB 7.4MB/s eta 0:00:01\r\u001b[K     |██████▌                         | 419kB 7.4MB/s eta 0:00:01\r\u001b[K     |██████▋                         | 430kB 7.4MB/s eta 0:00:01\r\u001b[K     |██████▊                         | 440kB 7.4MB/s eta 0:00:01\r\u001b[K     |███████                         | 450kB 7.4MB/s eta 0:00:01\r\u001b[K     |███████                         | 460kB 7.4MB/s eta 0:00:01\r\u001b[K     |███████▎                        | 471kB 7.4MB/s eta 0:00:01\r\u001b[K     |███████▍                        | 481kB 7.4MB/s eta 0:00:01\r\u001b[K     |███████▌                        | 491kB 7.4MB/s eta 0:00:01\r\u001b[K     |███████▊                        | 501kB 7.4MB/s eta 0:00:01\r\u001b[K     |███████▉                        | 512kB 7.4MB/s eta 0:00:01\r\u001b[K     |████████                        | 522kB 7.4MB/s eta 0:00:01\r\u001b[K     |████████▏                       | 532kB 7.4MB/s eta 0:00:01\r\u001b[K     |████████▍                       | 542kB 7.4MB/s eta 0:00:01\r\u001b[K     |████████▌                       | 552kB 7.4MB/s eta 0:00:01\r\u001b[K     |████████▋                       | 563kB 7.4MB/s eta 0:00:01\r\u001b[K     |████████▉                       | 573kB 7.4MB/s eta 0:00:01\r\u001b[K     |█████████                       | 583kB 7.4MB/s eta 0:00:01\r\u001b[K     |█████████▏                      | 593kB 7.4MB/s eta 0:00:01\r\u001b[K     |█████████▎                      | 604kB 7.4MB/s eta 0:00:01\r\u001b[K     |█████████▍                      | 614kB 7.4MB/s eta 0:00:01\r\u001b[K     |█████████▋                      | 624kB 7.4MB/s eta 0:00:01\r\u001b[K     |█████████▊                      | 634kB 7.4MB/s eta 0:00:01\r\u001b[K     |██████████                      | 645kB 7.4MB/s eta 0:00:01\r\u001b[K     |██████████                      | 655kB 7.4MB/s eta 0:00:01\r\u001b[K     |██████████▎                     | 665kB 7.4MB/s eta 0:00:01\r\u001b[K     |██████████▍                     | 675kB 7.4MB/s eta 0:00:01\r\u001b[K     |██████████▌                     | 686kB 7.4MB/s eta 0:00:01\r\u001b[K     |██████████▊                     | 696kB 7.4MB/s eta 0:00:01\r\u001b[K     |██████████▉                     | 706kB 7.4MB/s eta 0:00:01\r\u001b[K     |███████████                     | 716kB 7.4MB/s eta 0:00:01\r\u001b[K     |███████████▏                    | 727kB 7.4MB/s eta 0:00:01\r\u001b[K     |███████████▎                    | 737kB 7.4MB/s eta 0:00:01\r\u001b[K     |███████████▌                    | 747kB 7.4MB/s eta 0:00:01\r\u001b[K     |███████████▋                    | 757kB 7.4MB/s eta 0:00:01\r\u001b[K     |███████████▉                    | 768kB 7.4MB/s eta 0:00:01\r\u001b[K     |████████████                    | 778kB 7.4MB/s eta 0:00:01\r\u001b[K     |████████████                    | 788kB 7.4MB/s eta 0:00:01\r\u001b[K     |████████████▎                   | 798kB 7.4MB/s eta 0:00:01\r\u001b[K     |████████████▍                   | 808kB 7.4MB/s eta 0:00:01\r\u001b[K     |████████████▋                   | 819kB 7.4MB/s eta 0:00:01\r\u001b[K     |████████████▊                   | 829kB 7.4MB/s eta 0:00:01\r\u001b[K     |█████████████                   | 839kB 7.4MB/s eta 0:00:01\r\u001b[K     |█████████████                   | 849kB 7.4MB/s eta 0:00:01\r\u001b[K     |█████████████▏                  | 860kB 7.4MB/s eta 0:00:01\r\u001b[K     |█████████████▍                  | 870kB 7.4MB/s eta 0:00:01\r\u001b[K     |█████████████▌                  | 880kB 7.4MB/s eta 0:00:01\r\u001b[K     |█████████████▊                  | 890kB 7.4MB/s eta 0:00:01\r\u001b[K     |█████████████▉                  | 901kB 7.4MB/s eta 0:00:01\r\u001b[K     |██████████████                  | 911kB 7.4MB/s eta 0:00:01\r\u001b[K     |██████████████▏                 | 921kB 7.4MB/s eta 0:00:01\r\u001b[K     |██████████████▎                 | 931kB 7.4MB/s eta 0:00:01\r\u001b[K     |██████████████▌                 | 942kB 7.4MB/s eta 0:00:01\r\u001b[K     |██████████████▋                 | 952kB 7.4MB/s eta 0:00:01\r\u001b[K     |██████████████▉                 | 962kB 7.4MB/s eta 0:00:01\r\u001b[K     |███████████████                 | 972kB 7.4MB/s eta 0:00:01\r\u001b[K     |███████████████                 | 983kB 7.4MB/s eta 0:00:01\r\u001b[K     |███████████████▎                | 993kB 7.4MB/s eta 0:00:01\r\u001b[K     |███████████████▍                | 1.0MB 7.4MB/s eta 0:00:01\r\u001b[K     |███████████████▋                | 1.0MB 7.4MB/s eta 0:00:01\r\u001b[K     |███████████████▊                | 1.0MB 7.4MB/s eta 0:00:01\r\u001b[K     |███████████████▉                | 1.0MB 7.4MB/s eta 0:00:01\r\u001b[K     |████████████████                | 1.0MB 7.4MB/s eta 0:00:01\r\u001b[K     |████████████████▏               | 1.1MB 7.4MB/s eta 0:00:01\r\u001b[K     |████████████████▍               | 1.1MB 7.4MB/s eta 0:00:01\r\u001b[K     |████████████████▌               | 1.1MB 7.4MB/s eta 0:00:01\r\u001b[K     |████████████████▊               | 1.1MB 7.4MB/s eta 0:00:01\r\u001b[K     |████████████████▉               | 1.1MB 7.4MB/s eta 0:00:01\r\u001b[K     |█████████████████               | 1.1MB 7.4MB/s eta 0:00:01\r\u001b[K     |█████████████████▏              | 1.1MB 7.4MB/s eta 0:00:01\r\u001b[K     |█████████████████▎              | 1.1MB 7.4MB/s eta 0:00:01\r\u001b[K     |█████████████████▌              | 1.1MB 7.4MB/s eta 0:00:01\r\u001b[K     |█████████████████▋              | 1.1MB 7.4MB/s eta 0:00:01\r\u001b[K     |█████████████████▊              | 1.2MB 7.4MB/s eta 0:00:01\r\u001b[K     |██████████████████              | 1.2MB 7.4MB/s eta 0:00:01\r\u001b[K     |██████████████████              | 1.2MB 7.4MB/s eta 0:00:01\r\u001b[K     |██████████████████▎             | 1.2MB 7.4MB/s eta 0:00:01\r\u001b[K     |██████████████████▍             | 1.2MB 7.4MB/s eta 0:00:01\r\u001b[K     |██████████████████▋             | 1.2MB 7.4MB/s eta 0:00:01\r\u001b[K     |██████████████████▊             | 1.2MB 7.4MB/s eta 0:00:01\r\u001b[K     |██████████████████▉             | 1.2MB 7.4MB/s eta 0:00:01\r\u001b[K     |███████████████████             | 1.2MB 7.4MB/s eta 0:00:01\r\u001b[K     |███████████████████▏            | 1.2MB 7.4MB/s eta 0:00:01\r\u001b[K     |███████████████████▍            | 1.3MB 7.4MB/s eta 0:00:01\r\u001b[K     |███████████████████▌            | 1.3MB 7.4MB/s eta 0:00:01\r\u001b[K     |███████████████████▋            | 1.3MB 7.4MB/s eta 0:00:01\r\u001b[K     |███████████████████▉            | 1.3MB 7.4MB/s eta 0:00:01\r\u001b[K     |████████████████████            | 1.3MB 7.4MB/s eta 0:00:01\r\u001b[K     |████████████████████▏           | 1.3MB 7.4MB/s eta 0:00:01\r\u001b[K     |████████████████████▎           | 1.3MB 7.4MB/s eta 0:00:01\r\u001b[K     |████████████████████▌           | 1.3MB 7.4MB/s eta 0:00:01\r\u001b[K     |████████████████████▋           | 1.3MB 7.4MB/s eta 0:00:01\r\u001b[K     |████████████████████▊           | 1.4MB 7.4MB/s eta 0:00:01\r\u001b[K     |█████████████████████           | 1.4MB 7.4MB/s eta 0:00:01\r\u001b[K     |█████████████████████           | 1.4MB 7.4MB/s eta 0:00:01\r\u001b[K     |█████████████████████▎          | 1.4MB 7.4MB/s eta 0:00:01\r\u001b[K     |█████████████████████▍          | 1.4MB 7.4MB/s eta 0:00:01\r\u001b[K     |█████████████████████▌          | 1.4MB 7.4MB/s eta 0:00:01\r\u001b[K     |█████████████████████▊          | 1.4MB 7.4MB/s eta 0:00:01\r\u001b[K     |█████████████████████▉          | 1.4MB 7.4MB/s eta 0:00:01\r\u001b[K     |██████████████████████          | 1.4MB 7.4MB/s eta 0:00:01\r\u001b[K     |██████████████████████▏         | 1.4MB 7.4MB/s eta 0:00:01\r\u001b[K     |██████████████████████▍         | 1.5MB 7.4MB/s eta 0:00:01\r\u001b[K     |██████████████████████▌         | 1.5MB 7.4MB/s eta 0:00:01\r\u001b[K     |██████████████████████▋         | 1.5MB 7.4MB/s eta 0:00:01\r\u001b[K     |██████████████████████▉         | 1.5MB 7.4MB/s eta 0:00:01\r\u001b[K     |███████████████████████         | 1.5MB 7.4MB/s eta 0:00:01\r\u001b[K     |███████████████████████▏        | 1.5MB 7.4MB/s eta 0:00:01\r\u001b[K     |███████████████████████▎        | 1.5MB 7.4MB/s eta 0:00:01\r\u001b[K     |███████████████████████▍        | 1.5MB 7.4MB/s eta 0:00:01\r\u001b[K     |███████████████████████▋        | 1.5MB 7.4MB/s eta 0:00:01\r\u001b[K     |███████████████████████▊        | 1.5MB 7.4MB/s eta 0:00:01\r\u001b[K     |████████████████████████        | 1.6MB 7.4MB/s eta 0:00:01\r\u001b[K     |████████████████████████        | 1.6MB 7.4MB/s eta 0:00:01\r\u001b[K     |████████████████████████▏       | 1.6MB 7.4MB/s eta 0:00:01\r\u001b[K     |████████████████████████▍       | 1.6MB 7.4MB/s eta 0:00:01\r\u001b[K     |████████████████████████▌       | 1.6MB 7.4MB/s eta 0:00:01\r\u001b[K     |████████████████████████▊       | 1.6MB 7.4MB/s eta 0:00:01\r\u001b[K     |████████████████████████▉       | 1.6MB 7.4MB/s eta 0:00:01\r\u001b[K     |█████████████████████████       | 1.6MB 7.4MB/s eta 0:00:01\r\u001b[K     |█████████████████████████▏      | 1.6MB 7.4MB/s eta 0:00:01\r\u001b[K     |█████████████████████████▎      | 1.6MB 7.4MB/s eta 0:00:01\r\u001b[K     |█████████████████████████▌      | 1.7MB 7.4MB/s eta 0:00:01\r\u001b[K     |█████████████████████████▋      | 1.7MB 7.4MB/s eta 0:00:01\r\u001b[K     |█████████████████████████▉      | 1.7MB 7.4MB/s eta 0:00:01\r\u001b[K     |██████████████████████████      | 1.7MB 7.4MB/s eta 0:00:01\r\u001b[K     |██████████████████████████      | 1.7MB 7.4MB/s eta 0:00:01\r\u001b[K     |██████████████████████████▎     | 1.7MB 7.4MB/s eta 0:00:01\r\u001b[K     |██████████████████████████▍     | 1.7MB 7.4MB/s eta 0:00:01\r\u001b[K     |██████████████████████████▋     | 1.7MB 7.4MB/s eta 0:00:01\r\u001b[K     |██████████████████████████▊     | 1.7MB 7.4MB/s eta 0:00:01\r\u001b[K     |███████████████████████████     | 1.8MB 7.4MB/s eta 0:00:01\r\u001b[K     |███████████████████████████     | 1.8MB 7.4MB/s eta 0:00:01\r\u001b[K     |███████████████████████████▏    | 1.8MB 7.4MB/s eta 0:00:01\r\u001b[K     |███████████████████████████▍    | 1.8MB 7.4MB/s eta 0:00:01\r\u001b[K     |███████████████████████████▌    | 1.8MB 7.4MB/s eta 0:00:01\r\u001b[K     |███████████████████████████▊    | 1.8MB 7.4MB/s eta 0:00:01\r\u001b[K     |███████████████████████████▉    | 1.8MB 7.4MB/s eta 0:00:01\r\u001b[K     |████████████████████████████    | 1.8MB 7.4MB/s eta 0:00:01\r\u001b[K     |████████████████████████████▏   | 1.8MB 7.4MB/s eta 0:00:01\r\u001b[K     |████████████████████████████▎   | 1.8MB 7.4MB/s eta 0:00:01\r\u001b[K     |████████████████████████████▌   | 1.9MB 7.4MB/s eta 0:00:01\r\u001b[K     |████████████████████████████▋   | 1.9MB 7.4MB/s eta 0:00:01\r\u001b[K     |████████████████████████████▉   | 1.9MB 7.4MB/s eta 0:00:01\r\u001b[K     |█████████████████████████████   | 1.9MB 7.4MB/s eta 0:00:01\r\u001b[K     |█████████████████████████████   | 1.9MB 7.4MB/s eta 0:00:01\r\u001b[K     |█████████████████████████████▎  | 1.9MB 7.4MB/s eta 0:00:01\r\u001b[K     |█████████████████████████████▍  | 1.9MB 51kB/s eta 0:00:04\r\u001b[K     |█████████████████████████████▋  | 1.9MB 51kB/s eta 0:00:04\r\u001b[K     |█████████████████████████████▊  | 1.9MB 51kB/s eta 0:00:03\r\u001b[K     |█████████████████████████████▉  | 1.9MB 51kB/s eta 0:00:03\r\u001b[K     |██████████████████████████████  | 2.0MB 51kB/s eta 0:00:03\r\u001b[K     |██████████████████████████████▏ | 2.0MB 51kB/s eta 0:00:03\r\u001b[K     |██████████████████████████████▍ | 2.0MB 51kB/s eta 0:00:03\r\u001b[K     |██████████████████████████████▌ | 2.0MB 51kB/s eta 0:00:02\r\u001b[K     |██████████████████████████████▊ | 2.0MB 51kB/s eta 0:00:02\r\u001b[K     |██████████████████████████████▉ | 2.0MB 51kB/s eta 0:00:02\r\u001b[K     |███████████████████████████████ | 2.0MB 51kB/s eta 0:00:02\r\u001b[K     |███████████████████████████████▏| 2.0MB 51kB/s eta 0:00:02\r\u001b[K     |███████████████████████████████▎| 2.0MB 51kB/s eta 0:00:01\r\u001b[K     |███████████████████████████████▌| 2.0MB 51kB/s eta 0:00:01\r\u001b[K     |███████████████████████████████▋| 2.1MB 51kB/s eta 0:00:01\r\u001b[K     |███████████████████████████████▊| 2.1MB 51kB/s eta 0:00:01\r\u001b[K     |████████████████████████████████| 2.1MB 51kB/s eta 0:00:01\r\u001b[K     |████████████████████████████████| 2.1MB 51kB/s \n",
            "\u001b[?25hRequirement already satisfied: numpy in /usr/local/lib/python3.6/dist-packages (from mitdeeplearning) (1.18.5)\n",
            "Requirement already satisfied: regex in /usr/local/lib/python3.6/dist-packages (from mitdeeplearning) (2019.12.20)\n",
            "Requirement already satisfied: tqdm in /usr/local/lib/python3.6/dist-packages (from mitdeeplearning) (4.41.1)\n",
            "Requirement already satisfied: gym in /usr/local/lib/python3.6/dist-packages (from mitdeeplearning) (0.17.2)\n",
            "Requirement already satisfied: pyglet<=1.5.0,>=1.4.0 in /usr/local/lib/python3.6/dist-packages (from gym->mitdeeplearning) (1.5.0)\n",
            "Requirement already satisfied: cloudpickle<1.4.0,>=1.2.0 in /usr/local/lib/python3.6/dist-packages (from gym->mitdeeplearning) (1.3.0)\n",
            "Requirement already satisfied: scipy in /usr/local/lib/python3.6/dist-packages (from gym->mitdeeplearning) (1.4.1)\n",
            "Requirement already satisfied: future in /usr/local/lib/python3.6/dist-packages (from pyglet<=1.5.0,>=1.4.0->gym->mitdeeplearning) (0.16.0)\n",
            "Building wheels for collected packages: mitdeeplearning\n",
            "  Building wheel for mitdeeplearning (setup.py) ... \u001b[?25l\u001b[?25hdone\n",
            "  Created wheel for mitdeeplearning: filename=mitdeeplearning-0.1.2-cp36-none-any.whl size=2114586 sha256=11fdcf17a7a8883cb29f39c902e8b4e2b99486cb23c0d2ae25547b3ede4f87be\n",
            "  Stored in directory: /root/.cache/pip/wheels/27/e1/73/5f01c787621d8a3c857f59876c79e304b9b64db9ff5bd61b74\n",
            "Successfully built mitdeeplearning\n",
            "Installing collected packages: mitdeeplearning\n",
            "Successfully installed mitdeeplearning-0.1.2\n"
          ],
          "name": "stdout"
        }
      ]
    },
    {
      "cell_type": "code",
      "metadata": {
        "id": "p2dQsHI3_N8K",
        "colab": {
          "base_uri": "https://localhost:8080/",
          "height": 51
        },
        "outputId": "0ce09d79-ae89-4abf-b1cc-45e182bec830"
      },
      "source": [
        "mnist = tf.keras.datasets.mnist\n",
        "(train_images, train_labels), (test_images, test_labels) = mnist.load_data()\n",
        "train_images = (np.expand_dims(train_images, axis=-1)/255.).astype(np.float32)\n",
        "train_labels = (train_labels).astype(np.int64)\n",
        "test_images = (np.expand_dims(test_images, axis=-1)/255.).astype(np.float32)\n",
        "test_labels = (test_labels).astype(np.int64)"
      ],
      "execution_count": null,
      "outputs": [
        {
          "output_type": "stream",
          "text": [
            "Downloading data from https://storage.googleapis.com/tensorflow/tf-keras-datasets/mnist.npz\n",
            "11493376/11490434 [==============================] - 1s 0us/step\n"
          ],
          "name": "stdout"
        }
      ]
    },
    {
      "cell_type": "code",
      "metadata": {
        "scrolled": true,
        "id": "bDBsR2lP_N8O",
        "colab": {
          "base_uri": "https://localhost:8080/",
          "height": 589
        },
        "outputId": "4b9ba7d6-7bb3-4f42-fe7e-e7e9495e98f9"
      },
      "source": [
        "plt.figure(figsize=(10,10))\n",
        "random_inds = np.random.choice(60000,16)\n",
        "for i in range(16):\n",
        "    plt.subplot(4,4,i+1)\n",
        "    plt.xticks([])\n",
        "    plt.yticks([])\n",
        "    plt.grid(False)\n",
        "    image_ind = random_inds[i]\n",
        "    plt.imshow(np.squeeze(train_images[image_ind]), cmap=plt.cm.binary)\n",
        "    plt.xlabel(train_labels[image_ind])"
      ],
      "execution_count": null,
      "outputs": [
        {
          "output_type": "display_data",
          "data": {
            "image/png": "[encoded data removed]",
            "text/plain": [
              "<Figure size 720x720 with 16 Axes>"
            ]
          },
          "metadata": {
            "tags": []
          }
        }
      ]
    },
    {
      "cell_type": "code",
      "metadata": {
        "id": "x3pQBwcXx2gd"
      },
      "source": [
        "from keras import Sequential\n",
        "from keras.layers import Flatten,Dense\n",
        "model=Sequential()\n",
        "model.add(Flatten())\n",
        "model.add(Dense(64,activation=\"relu\"))\n",
        "model.add(Dense(10,activation=\"softmax\"))"
      ],
      "execution_count": null,
      "outputs": []
    },
    {
      "cell_type": "code",
      "metadata": {
        "id": "0SAtwASWzlwz"
      },
      "source": [
        "model.compile(optimizer='adam',loss='sparse_categorical_crossentropy',metrics=\"accuracy\")"
      ],
      "execution_count": null,
      "outputs": []
    },
    {
      "cell_type": "code",
      "metadata": {
        "id": "EFMbIqIvQ2X0"
      },
      "source": [
        "BATCH_SIZE =64\n",
        "EPOCHS = 5\n",
        "\n",
        "model.fit(train_images, train_labels, batch_size=BATCH_SIZE, epochs=EPOCHS)"
      ],
      "execution_count": null,
      "outputs": []
    },
    {
      "cell_type": "code",
      "metadata": {
        "id": "VflXLEeECaXC",
        "colab": {
          "base_uri": "https://localhost:8080/",
          "height": 51
        },
        "outputId": "7f1ab4ec-3a5f-4468-bb93-8031757f0461"
      },
      "source": [
        "test_loss, test_acc = model.evaluate(test_images,test_labels)\n",
        "\n",
        "print('Test accuracy:', test_acc)"
      ],
      "execution_count": null,
      "outputs": [
        {
          "output_type": "stream",
          "text": [
            "313/313 [==============================] - 1s 2ms/step - loss: 0.0840 - accuracy: 0.9742\n",
            "Test accuracy: 0.9742000102996826\n"
          ],
          "name": "stdout"
        }
      ]
    },
    {
      "cell_type": "code",
      "metadata": {
        "id": "X9hp99R01Jnj"
      },
      "source": [
        "from keras.layers import Conv2D,MaxPool2D\n",
        "model=Sequential()\n",
        "model.add(Conv2D(64, kernel_size =5,activation=tf.nn.relu))\n",
        "model.add(MaxPool2D(2))\n",
        "model.add(Conv2D(40,kernel_size=3,activation=tf.nn.relu))\n",
        "model.add(MaxPool2D(2))\n",
        "model.add(Flatten())\n",
        "model.add(Dense(10,activation=\"softmax\"))"
      ],
      "execution_count": null,
      "outputs": []
    },
    {
      "cell_type": "code",
      "metadata": {
        "id": "F_SHqhRZ6Scw"
      },
      "source": [
        "model.compile(optimizer='adam',loss='sparse_categorical_crossentropy',metrics='accuracy')"
      ],
      "execution_count": null,
      "outputs": []
    },
    {
      "cell_type": "code",
      "metadata": {
        "id": "IPlnyWcp7TCh",
        "colab": {
          "base_uri": "https://localhost:8080/",
          "height": 204
        },
        "outputId": "0f0c0fbe-7f59-471c-e81a-662c18a4a6b4"
      },
      "source": [
        "model.fit(train_images,train_labels,batch_size=BATCH_SIZE,epochs=EPOCHS)"
      ],
      "execution_count": null,
      "outputs": [
        {
          "output_type": "stream",
          "text": [
            "Epoch 1/5\n",
            "938/938 [==============================] - 6s 6ms/step - loss: 0.1836 - accuracy: 0.9459\n",
            "Epoch 2/5\n",
            "938/938 [==============================] - 5s 6ms/step - loss: 0.0543 - accuracy: 0.9837\n",
            "Epoch 3/5\n",
            "938/938 [==============================] - 5s 6ms/step - loss: 0.0411 - accuracy: 0.9872\n",
            "Epoch 4/5\n",
            "938/938 [==============================] - 5s 6ms/step - loss: 0.0322 - accuracy: 0.9898\n",
            "Epoch 5/5\n",
            "938/938 [==============================] - 5s 6ms/step - loss: 0.0254 - accuracy: 0.9924\n"
          ],
          "name": "stdout"
        },
        {
          "output_type": "execute_result",
          "data": {
            "text/plain": [
              "<tensorflow.python.keras.callbacks.History at 0x7f1a7c606c18>"
            ]
          },
          "metadata": {
            "tags": []
          },
          "execution_count": 40
        }
      ]
    },
    {
      "cell_type": "code",
      "metadata": {
        "id": "tQjFWvUO75mM",
        "colab": {
          "base_uri": "https://localhost:8080/",
          "height": 51
        },
        "outputId": "d989f8c8-5b3b-4985-b9c0-b3b1fd7ca95c"
      },
      "source": [
        "test_loss, test_acc = model.evaluate(test_images,test_labels)\n",
        "print(\"accuracy:\",test_acc)"
      ],
      "execution_count": null,
      "outputs": [
        {
          "output_type": "stream",
          "text": [
            "313/313 [==============================] - 1s 3ms/step - loss: 0.0288 - accuracy: 0.9894\n",
            "accuracy: 0.9894000291824341\n"
          ],
          "name": "stdout"
        }
      ]
    },
    {
      "cell_type": "code",
      "metadata": {
        "id": "Gl91RPhdCaXI"
      },
      "source": [
        "predictions = model.predict(test_images)"
      ],
      "execution_count": null,
      "outputs": []
    },
    {
      "cell_type": "code",
      "metadata": {
        "id": "3DmJEUinCaXK",
        "colab": {
          "base_uri": "https://localhost:8080/",
          "height": 68
        },
        "outputId": "5626c0fd-808e-4667-c4ad-286ae7fe4ef0"
      },
      "source": [
        "predictions[0]"
      ],
      "execution_count": null,
      "outputs": [
        {
          "output_type": "execute_result",
          "data": {
            "text/plain": [
              "array([3.5093792e-10, 3.6745024e-10, 2.1121471e-06, 3.9992237e-06,\n",
              "       2.6619858e-13, 7.6789880e-10, 8.1509676e-17, 9.9999309e-01,\n",
              "       1.8087432e-09, 8.0050557e-07], dtype=float32)"
            ]
          },
          "metadata": {
            "tags": []
          },
          "execution_count": 43
        }
      ]
    },
    {
      "cell_type": "code",
      "metadata": {
        "id": "Sd7Pgsu6CaXP",
        "colab": {
          "base_uri": "https://localhost:8080/",
          "height": 299
        },
        "outputId": "13851702-cac1-4a93-df21-d8069849fae8"
      },
      "source": [
        "print(\"Label of this digit is:\", test_labels[0])\n",
        "plt.imshow(test_images[0,:,:,0], cmap=plt.cm.binary)"
      ],
      "execution_count": null,
      "outputs": [
        {
          "output_type": "stream",
          "text": [
            "Label of this digit is: 7\n"
          ],
          "name": "stdout"
        },
        {
          "output_type": "execute_result",
          "data": {
            "text/plain": [
              "<matplotlib.image.AxesImage at 0x7f1a7ac1acc0>"
            ]
          },
          "metadata": {
            "tags": []
          },
          "execution_count": 44
        },
        {
          "output_type": "display_data",
          "data": {
            "image/png": "[encoded data removed]",
            "text/plain": [
              "<Figure size 432x288 with 1 Axes>"
            ]
          },
          "metadata": {
            "tags": [],
            "needs_background": "light"
          }
        }
      ]
    },
    {
      "cell_type": "code",
      "metadata": {
        "id": "HV5jw-5HwSmO",
        "colab": {
          "base_uri": "https://localhost:8080/",
          "height": 252
        },
        "outputId": "882ce979-be61-44bc-8481-3d951be2e894"
      },
      "source": [
        "#@title Change the slider to look at the model's predictions! { run: \"auto\" }\n",
        "\n",
        "image_index = 39 #@param {type:\"slider\", min:0, max:100, step:1}\n",
        "plt.subplot(1,2,1)\n",
        "mdl.lab2.plot_image_prediction(image_index, predictions, test_labels, test_images)\n",
        "plt.subplot(1,2,2)\n",
        "mdl.lab2.plot_value_prediction(image_index, predictions,  test_labels)"
      ],
      "execution_count": null,
      "outputs": [
        {
          "output_type": "display_data",
          "data": {
            "image/png": "[encoded data removed]",
            "text/plain": [
              "<Figure size 432x288 with 2 Axes>"
            ]
          },
          "metadata": {
            "tags": []
          }
        }
      ]
    }
  ]
}